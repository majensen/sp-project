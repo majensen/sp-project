{
  "cells": [
    {
      "cell_type": "markdown",
      "metadata": {
        "id": "view-in-github",
        "colab_type": "text"
      },
      "source": [
        "<a href=\"https://colab.research.google.com/github/majensen/sp-project/blob/main/08_nucleus_instance_segmentation.ipynb\" target=\"_parent\"><img src=\"https://colab.research.google.com/assets/colab-badge.svg\" alt=\"Open In Colab\"/></a>"
      ]
    },
    {
      "cell_type": "markdown",
      "metadata": {
        "id": "GTfV-nd683PZ"
      },
      "source": [
        "# Nucleus Instance Segmentation\n",
        "\n",
        "Click to open in: \\[[GitHub](https://github.com/TissueImageAnalytics/tiatoolbox/blob/develop/examples/08-nucleus-instance-segmentation.ipynb)\\]\\[[Colab](https://colab.research.google.com/github/TissueImageAnalytics/tiatoolbox/blob/develop/examples/08-nucleus-instance-segmentation.ipynb)\\]\n",
        "\n"
      ]
    },
    {
      "cell_type": "markdown",
      "metadata": {
        "id": "p3l08vukKAWo",
        "tags": [
          "remove-cell"
        ]
      },
      "source": [
        "## About this notebook\n",
        "\n",
        "This jupyter notebook can be run on any computer with a standard browser and no prior installation of any programming language is required. It can run remotely over the Internet, free of charge, thanks to Google Colaboratory. To connect with Colab, click on one of the two blue checkboxes above. Check that \"colab\" appears in the address bar. You can right-click on \"Open in Colab\" and select \"Open in new tab\" if the left click does not work for you. Familiarize yourself with the drop-down menus near the top of the window. You can edit the notebook during the session, for example substituting your own image files for the image files used in this demo. Experiment by changing the parameters of functions. It is not possible for an ordinary user to permanently change this version of the notebook on GitHub or Colab, so you cannot inadvertently mess it up. Use the notebook's File Menu if you wish to save your own (changed) notebook.\n",
        "\n",
        "To run the notebook on any platform, except for Colab, set up your Python environment, as explained in the\n",
        "[README](https://github.com/TIA-Lab/tiatoolbox/blob/master/README.md#install-python-package) file.\n",
        "\n"
      ]
    },
    {
      "cell_type": "markdown",
      "metadata": {
        "id": "OkO3Z_Xk83Pa"
      },
      "source": [
        "## About this demo\n",
        "\n",
        "Each WSI can contain up to million nuclei of various types, which can be further analysed systematically and used for predicting clinical outcomes. In order to use nuclear features for downstream analysis within computational pathology, nucleus segmentation and classification must be carried out as an initial step. However, this remains a challenge because nuclei display a high level of heterogeneity and there is significant inter- and intra-instance variability in the shape, size and chromatin pattern between and within different cell types, disease types or even from one region to another within a single tissue sample. Tumour nuclei, in particular, tend to be present in clusters, which gives rise to many overlapping instances, providing a further challenge for automated segmentation, due to the difficulty of separating neighbouring instances.\n",
        "\n",
        "> ![image](https://tiatoolbox.dcs.warwick.ac.uk/notebook/hovernet_samples.PNG)\n",
        "> Image courtesy of Graham, Simon, et al. \"Hover-net: Simultaneous segmentation and classification of nuclei in multi-tissue histology images.\" Medical Image Analysis 58 (2019): 101563.\n",
        "\n",
        "In this example, we will demonstrate how you can use the TIAToolbox implementation of [HoVer-Net](https://arxiv.org/pdf/1812.06499.pdf) to tackle these challenges and solve the problem of nuclei instance segmentation and classification within histology images. HoVer-Net is a deep learning approach based on horizontal and vertical distances (and hence the name HoVer-Net) of nuclear pixels to the centre of mass of the corresponding nucleus. These distances are used to separate clustered nuclei. For each segmented instance, the nucleus type is subsequently determined via a dedicated up-sampling branch.\n",
        "\n",
        "In this example notebook, we are not going to explain how HoVer-Net works (for more information we refer you to the [HoVer-Net paper](https://www.sciencedirect.com/science/article/pii/S1361841519301045)), but we will show how easily you can use the sophisticated HoVer-Net model, which is incorporated in TIATtoolbox, to do automatic segmentation and classification of nucleus instances. Mostly, we will be working with the [NucleusInstanceSegmentor](https://github.com/TissueImageAnalytics/tiatoolbox/blob/develop/tiatoolbox/models/engine/nucleus_instance_segmentor.py#L256) which by default uses one of the pretrained [HoVerNet](link_to_hovernet_dcoumentation) models. We will also cover the [visualisation tool](https://tia-toolbox.readthedocs.io/en/develop/usage.html?#module-tiatoolbox.utils.visualization) embedded in TIAToolbox for overlaying the instance segmentation results on the input image.\n",
        "\n"
      ]
    },
    {
      "cell_type": "markdown",
      "metadata": {
        "id": "dWgX1QVe83Pb",
        "tags": [
          "remove-cell"
        ]
      },
      "source": [
        "## Setting up the environment\n",
        "\n",
        "### TIAToolbox and dependencies installation\n",
        "\n",
        "You can skip the following cell if 1) you are not using the Colab plaform or 2) you are using Colab and this is not your first run of the notebook in the current runtime session. If you nevertheless run the cell, you may get an error message, but no harm will be done. On Colab the cell installs `tiatoolbox`, and other prerequisite software. Harmless error messages should be ignored. Outside Colab , the notebook expects `tiatoolbox` to already be installed. (See the instructions in [README](https://github.com/TIA-Lab/tiatoolbox/blob/master/README.md#install-python-package).)\n",
        "\n"
      ]
    },
    {
      "cell_type": "code",
      "execution_count": null,
      "metadata": {
        "id": "oCOSzUCUXnfh",
        "tags": [
          "remove-cell"
        ],
        "colab": {
          "base_uri": "https://localhost:8080/"
        },
        "outputId": "1fc6e83e-6157-4727-cfcc-0770c4ff6295"
      },
      "outputs": [
        {
          "output_type": "stream",
          "name": "stdout",
          "text": [
            "\r\n",
            "Successfully installed Click-8.1.8 SimpleITK-2.5.2 arrow-1.3.0 asciitree-0.3.3 async-lru-2.0.5 bokeh-3.5.2 deprecated-1.2.18 dicomweb-client-0.59.3 fasteners-0.19 flask-cors-6.0.1 fqdn-1.5.1 fsspec-2024.12.0 glymur-0.13.8 imagecodecs-2025.3.30 isoduration-20.11.0 jedi-0.19.2 json5-0.12.0 jupyter-client-8.6.3 jupyter-events-0.12.0 jupyter-lsp-2.2.6 jupyter-server-2.16.0 jupyter-server-terminals-0.5.3 jupyterlab-4.4.5 jupyterlab-server-2.27.3 lark-1.2.2 marshmallow-3.26.1 numcodecs-0.15.1 numpy-1.26.4 nvidia-cublas-cu12-12.4.5.8 nvidia-cuda-cupti-cu12-12.4.127 nvidia-cuda-nvrtc-cu12-12.4.127 nvidia-cuda-runtime-cu12-12.4.127 nvidia-cudnn-cu12-9.1.0.70 nvidia-cufft-cu12-11.2.1.3 nvidia-curand-cu12-10.3.5.147 nvidia-cusolver-cu12-11.6.1.9 nvidia-cusparse-cu12-12.3.1.170 nvidia-nvjitlink-cu12-12.4.127 opencv-python-4.11.0.86 opencv-python-headless-4.11.0.86 openslide-bin-4.0.0.8 openslide-python-1.4.2 overrides-7.7.0 pydicom-3.0.1 python-json-logger-3.3.0 retrying-1.4.1 rfc3339-validator-0.1.4 rfc3986-validator-0.1.1 rfc3987-syntax-1.1.0 tiatoolbox-1.6.0 tifffile-2025.5.10 types-python-dateutil-2.9.0.20250708 universal-pathlib-0.2.6 uri-template-1.3.0 wsidicom-0.27.1 zarr-2.18.7\n",
            "Installation is done.\n"
          ]
        },
        {
          "output_type": "stream",
          "name": "stderr",
          "text": [
            "  Running command git clone --filter=blob:none --quiet https://github.com/TissueImageAnalytics/tiatoolbox.git /tmp/pip-req-build-aq45r0zz\n",
            "ERROR: pip's dependency resolver does not currently take into account all the packages that are installed. This behaviour is the source of the following dependency conflicts.\n",
            "gcsfs 2025.3.0 requires fsspec==2025.3.0, but you have fsspec 2024.12.0 which is incompatible.\n",
            "jupyter-kernel-gateway 2.5.2 requires jupyter-client<8.0,>=5.2.0, but you have jupyter-client 8.6.3 which is incompatible.\n",
            "thinc 8.3.6 requires numpy<3.0.0,>=2.0.0, but you have numpy 1.26.4 which is incompatible.\n",
            "opencv-contrib-python 4.12.0.88 requires numpy<2.3.0,>=2; python_version >= \"3.9\", but you have numpy 1.26.4 which is incompatible.\n",
            "notebook 6.5.7 requires jupyter-client<8,>=5.3.4, but you have jupyter-client 8.6.3 which is incompatible.\n"
          ]
        }
      ],
      "source": [
        "%%bash\n",
        "apt-get -y install libopenjp2-7-dev libopenjp2-tools openslide-tools libpixman-1-dev | tail -n 1\n",
        "pip install numpy==1.24.3  # Install a specific numpy version\n",
        "pip install torchvision==0.16.0+cu121 -f https://download.pytorch.org/whl/torch_stable.html # Install torchvision with a specific version\n",
        "pip install git+https://github.com/TissueImageAnalytics/tiatoolbox.git@develop | tail -n 1\n",
        "echo \"Installation is done.\""
      ]
    },
    {
      "cell_type": "markdown",
      "metadata": {
        "id": "_1lJsov983Pc",
        "tags": [
          "remove-cell"
        ]
      },
      "source": [
        "> **IMPORTANT**: If you are using Colab and you run the cell above for the first time, please note that you need to restart the runtime before proceeding through (menu) *\"Runtime→Restart runtime\"* . This is needed to load the latest versions of prerequisite packages installed with TIAToolbox. Doing so, you should be able to run all the remaining cells altogether (*\"Runtime→Run after\"* from the next cell) or one by one.\n",
        "\n"
      ]
    },
    {
      "cell_type": "markdown",
      "metadata": {
        "id": "hmJxBFzDJLPj"
      },
      "source": [
        "### Importing related libraries\n",
        "\n",
        "We import some standard Python modules, and also the Python module `wsireader` (see [details](https://github.com/TIA-Lab/tiatoolbox/blob/master/tiatoolbox/wsicore/wsireader.py)) written by the TIA Centre team.\n",
        "\n"
      ]
    },
    {
      "cell_type": "code",
      "execution_count": null,
      "metadata": {
        "id": "UEIfjUTaJLPj",
        "colab": {
          "base_uri": "https://localhost:8080/"
        },
        "outputId": "4e306e8b-2718-49d2-ee4d-179fed24d4b6"
      },
      "outputs": [
        {
          "output_type": "stream",
          "name": "stdout",
          "text": [
            "|2025-07-30|17:43:32.781| [INFO] NumExpr defaulting to 2 threads.\n"
          ]
        }
      ],
      "source": [
        "\"\"\"Import modules required to run the Jupyter notebook.\"\"\"\n",
        "\n",
        "# Clear logger to use tiatoolbox.logger\n",
        "import logging\n",
        "import warnings\n",
        "\n",
        "if logging.getLogger().hasHandlers():\n",
        "    logging.getLogger().handlers.clear()\n",
        "\n",
        "import cv2\n",
        "import joblib\n",
        "import matplotlib as mpl\n",
        "import matplotlib.pyplot as plt\n",
        "import numpy as np\n",
        "\n",
        "from tiatoolbox import logger\n",
        "from tiatoolbox.models.engine.nucleus_instance_segmentor import NucleusInstanceSegmentor\n",
        "from tiatoolbox.utils.misc import download_data, imread\n",
        "\n",
        "# We need this function to visualize the nuclear predictions\n",
        "from tiatoolbox.utils.visualization import (\n",
        "    overlay_prediction_contours,\n",
        ")\n",
        "from tiatoolbox.wsicore.wsireader import WSIReader\n",
        "\n",
        "warnings.filterwarnings(\"ignore\")\n",
        "mpl.rcParams[\"figure.dpi\"] = 300  # for high resolution figure in notebook\n",
        "mpl.rcParams[\"figure.facecolor\"] = \"white\"  # To make sure text is visible in dark mode\n",
        "plt.rcParams.update({\"font.size\": 5})"
      ]
    },
    {
      "cell_type": "markdown",
      "metadata": {
        "id": "xyPuh4gB83Pc",
        "tags": [
          "remove-cell"
        ]
      },
      "source": [
        "### GPU or CPU runtime\n",
        "\n",
        "Processes in this notebook can be accelerated by using a GPU. Therefore, whether you are running this notebook on your system or Colab, you need to check and specify appropriate [device](https://pytorch.org/docs/stable/tensor_attributes.html#torch.device) e.g., \"cuda\" or \"cpu\" whether you are using GPU or CPU. In Colab, you need to make sure that the runtime type is set to GPU in the *\"Runtime→Change runtime type→Hardware accelerator\"*. If you are *not* using GPU, consider changing the `device` flag to `cpu` value, otherwise, some errors will be raised when running the following cells.\n",
        "\n"
      ]
    },
    {
      "cell_type": "code",
      "execution_count": null,
      "metadata": {
        "id": "ArZAv2Yc83Pd",
        "tags": [
          "remove-cell"
        ]
      },
      "outputs": [],
      "source": [
        "device = \"cuda\"  # Choose appropriate device"
      ]
    },
    {
      "cell_type": "markdown",
      "metadata": {
        "id": "Jrx0GDVdXnfg",
        "tags": [
          "remove-cell"
        ]
      },
      "source": [
        "### Removing leftovers from previous runs\n",
        "\n",
        "The cell below removes some redundant directories if they exist—a previous run may have created them. This cell can be skipped if you are running this notebook for the first time.\n",
        "\n"
      ]
    },
    {
      "cell_type": "code",
      "execution_count": null,
      "metadata": {
        "id": "W2-2vEGzXnfg",
        "tags": [
          "remove-cell"
        ],
        "colab": {
          "base_uri": "https://localhost:8080/"
        },
        "outputId": "6e416293-c47c-4cb1-8191-b07d10edbe54"
      },
      "outputs": [
        {
          "output_type": "stream",
          "name": "stdout",
          "text": [
            "deleting tmp directory\n",
            "deleting 'sample_tile_results' directory\n",
            "deleting 'sample_wsi_results' directory\n"
          ]
        },
        {
          "output_type": "stream",
          "name": "stderr",
          "text": [
            "rm: cannot remove 'sample_tile_results': No such file or directory\n",
            "rm: cannot remove 'sample_wsi_results': No such file or directory\n"
          ]
        }
      ],
      "source": [
        "%%bash\n",
        "rm -rf tmp\n",
        "echo \"deleting tmp directory\"\n",
        "rm -r sample_tile_results\n",
        "echo \"deleting 'sample_tile_results' directory\"\n",
        "rm -r sample_wsi_results\n",
        "echo \"deleting 'sample_wsi_results' directory\""
      ]
    },
    {
      "cell_type": "markdown",
      "metadata": {
        "id": "kA9ti0jNXniD"
      },
      "source": [
        "### Downloading the required files\n",
        "\n",
        "We download, over the internet, image files used for the purpose of this notebook. In particular, we download a histology tile and a whole slide image of cancerous breast tissue samples to show how the nucleus instance segmentation model works.\n",
        "\n",
        "> In Colab, if you click the files icon (see below) in the vertical toolbar on the left hand side then you can see all the files that the code in this notebook can access. The data will appear here when it is downloaded.\n",
        ">\n",
        "> ![image.png](data:image/png;base64,iVBORw0KGgoAAAANSUhEUgAAACQAAAAlCAYAAAAqXEs9AAAAwElEQVRYhe3WMQ6DMAyFYa7q1Yfw7Dl3ICusZM0hzJpDMLtTGSoFNy2UVPIvvf3DYsignTXcDXjNQVYOsnKQlYOsDkHjOCoiKgBUl3P+DWhZlkPIVagqaJqmt0EAoDFGnefZXEpJt227HtQyZv4chIjKzKeMiHZU7Uom6OhrWhORHSQiDnKQg/oChRD6AjGzg/4L9PyHiEjXdT1lKaUdVEppA7W8h1qHiNUrfv1ibB0RVa9jgu7IQVYOsnKQVXegB/ZWYoL8lUCBAAAAAElFTkSuQmCC)\n",
        "\n"
      ]
    },
    {
      "cell_type": "code",
      "execution_count": null,
      "metadata": {
        "colab": {
          "base_uri": "https://localhost:8080/"
        },
        "id": "Rjw14DaJlO_o",
        "outputId": "6322b318-8123-438c-82cc-fca5436b1ea7",
        "tags": [
          "hide-output"
        ]
      },
      "outputs": [
        {
          "output_type": "stream",
          "name": "stdout",
          "text": [
            "|2025-07-30|17:44:54.327| [INFO] Download has started. Please wait...\n",
            "|2025-07-30|17:44:58.329| [INFO] Download is complete.\n"
          ]
        }
      ],
      "source": [
        "# These file name are used for the experimenets\n",
        "img_file_name = \"sample_tile.png\"\n",
        "wsi_file_name = \"sample_wsi.svs\"\n",
        "\n",
        "\n",
        "logger.info(\"Download has started. Please wait...\")\n",
        "\n",
        "# Downloading sample image tile\n",
        "download_data(\n",
        "    \"https://tiatoolbox.dcs.warwick.ac.uk/sample_imgs/breast_tissue_crop.png\",\n",
        "    img_file_name,\n",
        ")\n",
        "\n",
        "# Downloading sample whole-slide image\n",
        "download_data(\n",
        "    \"https://tiatoolbox.dcs.warwick.ac.uk/sample_wsis/wsi4_12k_12k.svs\",\n",
        "    wsi_file_name,\n",
        ")\n",
        "\n",
        "logger.info(\"Download is complete.\")"
      ]
    },
    {
      "cell_type": "markdown",
      "metadata": {
        "id": "fKterRqUKHnW"
      },
      "source": [
        "## Nucleus instance segmentation and classification using TIAToolbox's pretrained HoVer-Net model\n",
        "\n",
        "In this section, we will investigate the use of the HoVer-Net model that has been already trained on the PanNuke dataset and incorporated in the TIAToolbox.\n",
        "The model we demonstrate can segment out nucleus instances in the image and assign one of the following 6 classes to them:\n",
        "\n",
        "- Background\n",
        "- Neoplastic Epithelial\n",
        "- Non-Neoplastic Epithelial\n",
        "- Inflammatory\n",
        "- Connective\n",
        "- Dead\n",
        "\n",
        "### Inference on tiles\n",
        "\n",
        "Similarly to the semantic segmentation functionality of the TIAToolbox, the instance segmentation module works both on image tiles and structured WSIs. First, we need to create an instance of the `NucleusInstanceSegmentor` class which controls the whole process of the nucleus instance segmentation task and then use it to do prediction on the input image(s):\n",
        "\n"
      ]
    },
    {
      "cell_type": "code",
      "execution_count": null,
      "metadata": {
        "colab": {
          "base_uri": "https://localhost:8080/"
        },
        "id": "irBRlF2_JLPj",
        "outputId": "623eecf4-8ab5-48a1-f052-398ad729ec09",
        "tags": [
          "hide-output"
        ]
      },
      "outputs": [
        {
          "output_type": "stream",
          "name": "stderr",
          "text": [
            "|2025-07-30|17:45:15.851| [WARNING] GPU is not compatible with torch.compile. Compatible GPUs include NVIDIA V100, A100, and H100. Speedup numbers may be lower than expected.\n",
            "|2025-07-30|17:45:15.853| [WARNING] WSIPatchDataset only reads image tile at `units=\"baseline\"`. Resolutions will be converted to baseline value.\n",
            "|2025-07-30|17:45:16.242| [WARNING] WSIPatchDataset only reads image tile at `units=\"baseline\"`. Resolutions will be converted to baseline value.\n",
            "|2025-07-30|17:45:16.372| [WARNING] Raw data is None.\n",
            "|2025-07-30|17:45:16.373| [WARNING] Unknown scale (no objective_power or mpp)\n",
            "Process Batch:   0%|                                     | 0/13 [00:00<?, ?it/s]|2025-07-30|17:45:16.534| [WARNING] Raw data is None.\n",
            "|2025-07-30|17:45:16.554| [WARNING] Raw data is None.\n",
            "Process Batch: 100%|############################| 13/13 [00:06<00:00,  1.93it/s]\n",
            "Process Batch: 100%|##############################| 4/4 [00:01<00:00,  2.26it/s]\n",
            "Process Batch: 100%|##############################| 4/4 [00:01<00:00,  2.27it/s]\n",
            "Process Batch: 100%|##############################| 1/1 [00:00<00:00,  1.93it/s]\n",
            "Process Batch: 100%|##############################| 4/4 [00:01<00:00,  2.33it/s]\n",
            "Process Batch: 100%|##############################| 1/1 [00:00<00:00,  1.95it/s]\n",
            "Process Batch: 100%|##############################| 4/4 [00:01<00:00,  2.31it/s]\n",
            "Process Batch: 100%|##############################| 1/1 [00:00<00:00,  1.80it/s]\n",
            "Process Batch: 100%|##############################| 3/3 [00:01<00:00,  2.68it/s]\n"
          ]
        },
        {
          "output_type": "stream",
          "name": "stdout",
          "text": [
            "|2025-07-30|17:45:33.567| [INFO] Finish: 0\n",
            "|2025-07-30|17:45:33.568| [INFO] --Input: sample_tile.png\n",
            "|2025-07-30|17:45:33.569| [INFO] --Output: /content/sample_tile_results/0\n"
          ]
        }
      ],
      "source": [
        "# Tile prediction\n",
        "inst_segmentor = NucleusInstanceSegmentor(\n",
        "    pretrained_model=\"hovernet_fast-pannuke\",\n",
        "    num_loader_workers=2,\n",
        "    num_postproc_workers=2,\n",
        "    batch_size=4,\n",
        ")\n",
        "\n",
        "tile_output = inst_segmentor.predict(\n",
        "    [img_file_name],\n",
        "    save_dir=\"sample_tile_results/\",\n",
        "    mode=\"tile\",\n",
        "    device=device,\n",
        "    crash_on_exception=True,\n",
        ")"
      ]
    },
    {
      "cell_type": "markdown",
      "metadata": {
        "id": "e7JkXBtAETIn"
      },
      "source": [
        "There we go! With only two lines of code, thousands of images can be processed automatically.\n",
        "There are various parameters associated with `NucleusInstanceSegmentor`. We explain these as we meet them while proceeding through the notebook. Here we explain only the ones mentioned above:\n",
        "\n",
        "- `pretrained_model`: specifies the name of the pretrained model included in the TIAToolbox (case sensitive). We are expanding our library of models pretrained on various (instance) segmentation tasks. You can find a complete list of currently available pretrained models [here](https://tia-toolbox.readthedocs.io/en/latest/usage.html?highlight=architecture#module-tiatoolbox.models.architecture). In this example, we use the `\"hovernet_fast-pannuke\"` pretrained model, which is HoVer-Net model trained on the [PanNuke dataset](https://arxiv.org/abs/2003.10778). Another option for HoVer-Net is `hovernet_original-kumar` which is the original version of the HoVer-Net model trained on a dataset by [Kumar et al.](https://www.dropbox.com/s/j3154xgkkpkri9w/IEEE_TMI_NuceliSegmentation.pdf?dl=0)\n",
        "\n",
        "- `num_loader_workers`: as the name suggests, this parameter controls the number of CPU cores (workers) that are responsible for the \"loading of network input\" process, which consists of patch extraction, preprocessing, etc.\n",
        "\n",
        "- `num_postproc_workers`: as the name suggests, this parameter controls the number of CPU cores (workers) that are responsible for the \"model related post-processing\" tasks, which consist of horizontal and vertical maps gradient calculations, instance marker generation, and marker-controlled watershed method to generate the final instance map (for more information, please refer to the [HoVer-Net paper](https://www.sciencedirect.com/science/article/pii/S1361841519301045)).\n",
        "\n",
        "- `batch_size`: controls the batch size, or the number of input instances to the network in each iteration. If you use a GPU, be careful not to set the `batch_size` larger than the GPU memory limit would allow.\n",
        "\n",
        "After the `inst_segmentor` has been instantiated as the instance segmentation engine with our desired pretrained model, one can call the `predict` method to do inference on a list of input images (or WSIs). The `predict` function automatically processes all the images on the input list and saves the results on the disk. The process usually comprises patch extraction (because the whole tile or WSI won't fit into limited GPU memory), preprocessing, model inference, post-processing and prediction assembly. Here are some important parameters required by the `predict` method properly:\n",
        "\n",
        "- `imgs`: List of inputs to be processed. Note that items in the list should be paths to the inputs.\n",
        "\n",
        "- `save_dir`: Path to the main folder in which prediction results for each input are stored separately.\n",
        "\n",
        "- `mode`: the mode of inference which can be set to either `'tile'` or `'wsi'` for plain histology images or structured whole slides images, respectively.\n",
        "\n",
        "- `device`: specify appropriate [device](https://pytorch.org/docs/stable/tensor_attributes.html#torch.device) e.g., \"cuda\", \"cuda:0\", \"mps\", \"cpu\" etc.\n",
        "\n",
        "- `crash_on_exception`: If set to `True`, the running loop will crash if there is an error during processing a WSI. Otherwise, the loop will move on to the next image (wsi) for processing. We suggest that you first make sure that the prediction is working as expected by testing it on a couple of inputs and then set this flag to `False` to process large cohorts of inputs.\n",
        "\n",
        "In `tile_output`, the `prediction` method returns a list of paths to its inputs and to the processed outputs saved on disk. This can be used later during processing and visualisation.\n",
        "Similarly to prediction for the `SemanticSegmentor` class, the `predict` method here can also accepts some arguments to set the input/output configurations of the model. These arguments are `ioconfig` (which accecpts a instance from `tiatoolbox.models.engine.semantic_segmentor.IOSegmentorConfig` class) or `resolution`, `patch_input_shape`, `patch_output_shape`, and `stride_shape` based on which an appropriate `IOSegmentorConfig` will be generated.\n",
        "When you are using TIAToolbox pretrained models, we recommend using the default values of input/output shape.\n",
        "\n",
        "Now that the prediction has finished, let's use the paths in `tile_output` to load and examine the predictions. For that, we need to use `joblib` package.\n",
        "\n"
      ]
    },
    {
      "cell_type": "code",
      "execution_count": null,
      "metadata": {
        "colab": {
          "base_uri": "https://localhost:8080/"
        },
        "id": "LtzSbk1Z83Pf",
        "outputId": "c874dab9-803d-42d2-c889-356ead9027c0"
      },
      "outputs": [
        {
          "output_type": "stream",
          "name": "stdout",
          "text": [
            "|2025-07-30|17:45:45.947| [INFO] Number of detected nuclei: 458\n",
            "|2025-07-30|17:45:45.948| [INFO] Nucleus prediction structure for nucleus ID: cbf4610d1c2d4fa0ab27e27787b763e4\n",
            "|2025-07-30|17:45:45.951| [INFO] Keys in the output dictionary: [box, centroid, contour, prob, type]\n",
            "|2025-07-30|17:45:45.951| [INFO] Bounding box: (374, 1, 405, 18)\n",
            "|2025-07-30|17:45:45.953| [INFO] Centroid: (389, 8)\n"
          ]
        }
      ],
      "source": [
        "tile_preds = joblib.load(f\"{tile_output[0][1]}.dat\")\n",
        "logger.info(f\"Number of detected nuclei: {len(tile_preds)}\")\n",
        "\n",
        "# Extracting the nucleus IDs and select the first one\n",
        "nuc_id_list = list(tile_preds.keys())\n",
        "selected_nuc_id = nuc_id_list[0]\n",
        "logger.info(f\"Nucleus prediction structure for nucleus ID: {selected_nuc_id}\")\n",
        "sample_nuc = tile_preds[selected_nuc_id]\n",
        "sample_nuc_keys = list(sample_nuc)\n",
        "logger.info(\n",
        "    \"Keys in the output dictionary: [%s, %s, %s, %s, %s]\",\n",
        "    sample_nuc_keys[0],\n",
        "    sample_nuc_keys[1],\n",
        "    sample_nuc_keys[2],\n",
        "    sample_nuc_keys[3],\n",
        "    sample_nuc_keys[4],\n",
        ")\n",
        "logger.info(\n",
        "    \"Bounding box: (%d, %d, %d, %d)\",\n",
        "    sample_nuc[\"box\"][0],\n",
        "    sample_nuc[\"box\"][1],\n",
        "    sample_nuc[\"box\"][2],\n",
        "    sample_nuc[\"box\"][3],\n",
        ")\n",
        "logger.info(\n",
        "    \"Centroid: (%d, %d)\",\n",
        "    sample_nuc[\"centroid\"][0],\n",
        "    sample_nuc[\"centroid\"][1],\n",
        ")"
      ]
    },
    {
      "cell_type": "markdown",
      "metadata": {
        "id": "diGJJFn8pvRf"
      },
      "source": [
        "After loading the prediction for the first image in the `tile_output` list (there is only one image or path in this example), we can see that the nucleus predictions for that image are stored in a Python Dictionary each with a unique dictionary key which we will call `nuc_id` from now on. Here is the dictionary format:\n",
        "\n",
        "```\n",
        "sample_dict = {nuc_id: {\n",
        "                             box: List[],\n",
        "                             centroid: List[],\n",
        "                             contour: List[List[]],\n",
        "                             prob: float,\n",
        "                             type: int\n",
        "                             }\n",
        "                ... # other instances\n",
        "              }\n",
        "```\n",
        "\n",
        "One can extract the list of all nucleus IDs by calling `nuc_id_list = list(tile_preds.keys())`. The value for each `nuc_id` is a dictionary itself which contains information related to that particular nucleus instance. Each nucleus instance dictionary consists the following information (keys):\n",
        "\n",
        "- `'box'`: Bounding box information in the $[x_{top-left}, y_{top-left}, width, hight]$ format.\n",
        "- `'centroid'`: Centroid of the nucleus in $[x_{centre}, y_{centre}]$ format.\n",
        "- `'contour'`: A list of points that form the contour or segmentation boundary (polygon) of the nucleus. This can be used to regenerate the nucleus mask.\n",
        "- `'prob'`: The probability of type prediction.\n",
        "- `'type'`: Predicted type or label for the nucleus which can be an integer between 0 and 5: {0: 'neoplastic epithelial', 1: 'Inflammatory', 2: 'Connective', 3: 'Dead', 4: 'non-neoplastic epithelial'}\n",
        "\n",
        "### Instance Segmentation Visualisation\n",
        "\n",
        "Investigating the quality of instance segmentation/classification by going through the predicted nucleus dictionary, as explained above, is impossible. A good workaround is to visualize the instance segmentation results on the input image to check the quality of instance segmentation and classification. To this end, TIAToolbox has incorporated a boundary visualisation tool, called `overlay_prediction_contours`.\n",
        "\n"
      ]
    },
    {
      "cell_type": "code",
      "execution_count": null,
      "metadata": {
        "id": "01xXoAgIvByb"
      },
      "outputs": [],
      "source": [
        "# Reading the original image\n",
        "tile_img = imread(img_file_name)\n",
        "\n",
        "# defining the coloring dictionary:\n",
        "# A dictionary that specifies a color to each class {type_id : (type_name, colour)}\n",
        "color_dict = {\n",
        "    0: (\"background\", (255, 165, 0)),\n",
        "    1: (\"neoplastic epithelial\", (255, 0, 0)),\n",
        "    2: (\"Inflammatory\", (255, 255, 0)),\n",
        "    3: (\"Connective\", (0, 255, 0)),\n",
        "    4: (\"Dead\", (0, 0, 0)),\n",
        "    5: (\"non-neoplastic epithelial\", (0, 0, 255)),\n",
        "}\n",
        "\n",
        "# Create the overlay image\n",
        "overlaid_predictions = overlay_prediction_contours(\n",
        "    canvas=tile_img,\n",
        "    inst_dict=tile_preds,\n",
        "    draw_dot=False,\n",
        "    type_colours=color_dict,\n",
        "    line_thickness=2,\n",
        ")\n",
        "\n",
        "# showing processed results alongside the original images\n",
        "fig = plt.figure()\n",
        "ax1 = plt.subplot(1, 2, 1), plt.imshow(tile_img), plt.axis(\"off\")\n",
        "ax2 = plt.subplot(1, 2, 2), plt.imshow(overlaid_predictions), plt.axis(\"off\")"
      ]
    },
    {
      "cell_type": "markdown",
      "metadata": {
        "id": "Xsu3RMP9ILpA"
      },
      "source": [
        "As you can see, `overlay_prediction_contours` beautifully generates an image that has the instance segmentation classification overlaid. Here are the explanations regarding this function's arguments:\n",
        "\n",
        "- `canvas`: the image on which we would like to overlay the predictions. This is the same image as the input to the `predict` method, loaded as a numpy array.\n",
        "- `inst_dict`: predicted instance dictionary. This is the dictionary that we earlier loaded using the `joblib.load()` function. It is the output of HoVer-Net and contains the predicted instances.\n",
        "- `draw_dot`: specifies whether to show detected nucleus centroids on the overlap map. Default is False.\n",
        "- `type_colours`: a dictionary containing the name and colour information for each class in the prediction. The HoVer-Net model in this example predicts 6 classes of cell, and so we created `color_dict` containing colour information for all types. The `type_colours` dictionary uses the formal `{type_id : (type_name, colour)}` format where `type_id` is from 0 to N (corresponding to classes) and `colour` is a tuple (R, G, B) specifying the colour in RGB format.\n",
        "- `inst_colours`: if you only have the instance segmentation results or do not like to colour instances based on their types, you can set this parameter to assign a colour for all instances or provide a list of colours to assign different colours to different instances in `inst_dict`.\n",
        "\n"
      ]
    },
    {
      "cell_type": "markdown",
      "metadata": {
        "id": "V2Fu6C0-2ysd"
      },
      "source": [
        "### Inference on WSIs\n",
        "\n",
        "The next step is to use TIAToolbox's embedded model for nucleus instance segmentation on a whole slide image. The process is quite similar to what we have done for tiles. We will just introduce some important parameters that configure the instance segmentor for WSI inference.\n",
        "\n",
        "Here we re-defined the `inst_segmentor` just to show the use of the `auto_generate_mask` parameter. By setting this parameter to `True`, we are telling TIAToolbox to automatically extract the tissue masks of the input WSIs if they are not provided in the `predict` function parameters.\n",
        "In this example, we leave `auto_generate_mask=False` because we are using a WSI that contains only tissue region (there is no background region) and therefore there is no need for tissue mask extraction.\n",
        "\n",
        "> Please note that this part may take too long to process, depending on the system you are using (GPU enabled/disabled) and how large the input WSI is.\n",
        "\n"
      ]
    },
    {
      "cell_type": "code",
      "execution_count": null,
      "metadata": {
        "id": "fm7wCmiZQFCB",
        "tags": [
          "hide-output"
        ]
      },
      "outputs": [],
      "source": [
        "# Instantiate the nucleus instance segmentor\n",
        "inst_segmentor = NucleusInstanceSegmentor(\n",
        "    pretrained_model=\"hovernet_fast-pannuke\",\n",
        "    num_loader_workers=0,\n",
        "    num_postproc_workers=0,\n",
        "    batch_size=8,\n",
        "    auto_generate_mask=False,\n",
        "    verbose=False,\n",
        ")\n",
        "\n",
        "# WSI prediction\n",
        "# if device=\"cpu\", this part will take more than a couple of hours to process.\n",
        "wsi_output = inst_segmentor.predict(\n",
        "    [wsi_file_name],\n",
        "    masks=None,\n",
        "    save_dir=\"sample_wsi_results/\",\n",
        "    mode=\"wsi\",\n",
        "    device=device,\n",
        "    crash_on_exception=True,\n",
        ")"
      ]
    },
    {
      "cell_type": "markdown",
      "metadata": {
        "id": "HZzyZRLlQrv7"
      },
      "source": [
        "Note the only differences made here are:\n",
        "\n",
        "1. Adding `auto_generate_mask=False` to the `NucleusInstanceSegmentor`. If `True` and if no masks input is provided to the `predict` function, the toolbox will extract tissue masks from WSIs.\n",
        "1. Setting `mode='wsi'` in the arguments to `predict` tells the program that the input are in WSI format.\n",
        "1. `masks=None`: the `masks` argument to the `predict` function is handled in the same way as the imgs argument. It is a list of paths to the desired image masks. Patches from `imgs` are only processed if they are within a masked area of their corresponding `masks`. If not provided (`masks=None`), then a tissue mask is generated for whole-slide images or, for image tiles, the entire image is processed.\n",
        "\n",
        "The above code cell might take a while to process, especially if `device=\"cpu\"`. The processing time mostly depends on the size of the input WSI.\n",
        "The output, `wsi_output`, of `predict` contains a list of paths to the input WSIs and the corresponding output results saved on disk. The results for nucleus instance segmentation in `'wsi'` mode are stored in a Python dictionary, in the same way as was done for `'tile'` mode.\n",
        "We use `joblib` to load the outputs for this sample WSI and then inspect the results dictionary.\n",
        "\n"
      ]
    },
    {
      "cell_type": "code",
      "execution_count": null,
      "metadata": {
        "id": "PnGGHBmIImN6"
      },
      "outputs": [],
      "source": [
        "wsi_pred = joblib.load(f\"{wsi_output[0][1]}.dat\")\n",
        "logger.info(\"Number of detected nuclei: %d\", len(wsi_pred))\n",
        "\n",
        "# Extracting the nucleus IDs and select a random nucleus\n",
        "rng = np.random.default_rng()\n",
        "nuc_id_list = list(wsi_pred.keys())\n",
        "selected_nuc_id = nuc_id_list[\n",
        "    rng.integers(0, len(wsi_pred))\n",
        "]  # randomly select a nucleus\n",
        "logger.info(\"Nucleus prediction structure for nucleus ID: %s\", selected_nuc_id)\n",
        "sample_nuc = wsi_pred[selected_nuc_id]\n",
        "sample_nuc_keys = list(sample_nuc)\n",
        "logger.info(\n",
        "    \"Keys in the output dictionary: [%s, %s, %s, %s, %s]\",\n",
        "    sample_nuc_keys[0],\n",
        "    sample_nuc_keys[1],\n",
        "    sample_nuc_keys[2],\n",
        "    sample_nuc_keys[3],\n",
        "    sample_nuc_keys[4],\n",
        ")\n",
        "logger.info(\n",
        "    \"Bounding box: (%d, %d, %d, %d)\",\n",
        "    sample_nuc[\"box\"][0],\n",
        "    sample_nuc[\"box\"][1],\n",
        "    sample_nuc[\"box\"][2],\n",
        "    sample_nuc[\"box\"][3],\n",
        ")\n",
        "logger.info(\n",
        "    \"Centroid: (%d, %d)\",\n",
        "    sample_nuc[\"centroid\"][0],\n",
        "    sample_nuc[\"centroid\"][1],\n",
        ")"
      ]
    },
    {
      "cell_type": "markdown",
      "metadata": {
        "id": "gKTkOam5JfoR"
      },
      "source": [
        "More than 23,000 nucleus instances are segmented and classified within a WSI using only two simple lines of code and this process can be generalized to thousands of WSIs by providing the list of WSI paths as input to the `predict` function.\n",
        "\n",
        "We usually cannot visualize all nucleus instances in the same way that we did for an image tile, because the number of pixels in a standard WSI is too large to load into the system memory. Indeed, the number of nuclei is so large and screens are so small that even if we create the overlay image, we will not be able to distinguish the individual nuclei from each. Below, we load the input WSI to the `predict` function, create its overview and display it to better illustrate this limitation.\n",
        "\n"
      ]
    },
    {
      "cell_type": "code",
      "execution_count": null,
      "metadata": {
        "id": "qOyVsTax83Ph"
      },
      "outputs": [],
      "source": [
        "# [WSI overview extraction]\n",
        "# Reading the WSI\n",
        "wsi = WSIReader.open(wsi_file_name)\n",
        "logger.info(\n",
        "    \"WSI original dimensions: (%d, %d)\",\n",
        "    wsi.info.slide_dimensions[0],\n",
        "    wsi.info.slide_dimensions[1],\n",
        ")\n",
        "\n",
        "# Reading the whole slide in the highest resolution as a plane image\n",
        "wsi_overview = wsi.slide_thumbnail(resolution=0.25, units=\"mpp\")\n",
        "logger.info(\n",
        "    \"WSI overview dimensions: (%d, %d, %d)\",\n",
        "    wsi_overview.shape[0],\n",
        "    wsi_overview.shape[1],\n",
        "    wsi_overview.shape[2],\n",
        ")\n",
        "\n",
        "color_dict = {\n",
        "    0: (\"background\", (255, 165, 0)),\n",
        "    1: (\"neoplastic epithelial\", (255, 0, 0)),\n",
        "    2: (\"Inflammatory\", (255, 255, 0)),\n",
        "    3: (\"Connective\", (0, 255, 0)),\n",
        "    4: (\"Dead\", (0, 0, 0)),\n",
        "    5: (\"non-neoplastic epithelial\", (0, 0, 255)),\n",
        "}\n",
        "\n",
        "# Create the overlay image\n",
        "overlaid_predictions = overlay_prediction_contours(\n",
        "    canvas=wsi_overview,\n",
        "    inst_dict=wsi_pred,\n",
        "    draw_dot=False,\n",
        "    type_colours=color_dict,\n",
        "    line_thickness=4,\n",
        ")\n",
        "\n",
        "# showing processed results alongside the original images\n",
        "fig = (\n",
        "    plt.figure(),\n",
        "    plt.imshow(wsi_overview),\n",
        "    plt.axis(\"off\"),\n",
        "    plt.title(\"Whole Slide Image\"),\n",
        ")\n",
        "fig = (\n",
        "    plt.figure(),\n",
        "    plt.imshow(overlaid_predictions),\n",
        "    plt.axis(\"off\"),\n",
        "    plt.title(\"Instance Segmentation Overlaid\"),\n",
        ")"
      ]
    },
    {
      "cell_type": "markdown",
      "metadata": {
        "id": "uhvVCJ71LVnY"
      },
      "source": [
        "Although here we managed to overlay the results on the WSI (because this WSI is of size 12000x12000 which is relatively smaller than typical WSIs with pixels sizes larger than 100000x100000), we cannot distinguish a single nucleus in this big picture. However, to show the performance of the nucleus instance segmentation/classification, we will select four random nucleus instances and visualize them with their segmentation map overlaid on them. We will do this by leveraging the detected nucleus `centroid` information and `read_rect` functionality of the TIAToolbox WSI object.\n",
        "\n"
      ]
    },
    {
      "cell_type": "code",
      "execution_count": null,
      "metadata": {
        "id": "7EtEEIdgMOoR"
      },
      "outputs": [],
      "source": [
        "bb = 128  # box size for patch extraction around each nucleus\n",
        "\n",
        "# defining the coloring dictionary:\n",
        "# A dictionary that specifies a color to each class {type_id : (type_name, colour)}\n",
        "color_dict = {\n",
        "    0: (\"background\", (255, 165, 0)),\n",
        "    1: (\"neoplastic epithelial\", (255, 0, 0)),\n",
        "    2: (\"Inflammatory\", (255, 255, 0)),\n",
        "    3: (\"Connective\", (0, 255, 0)),\n",
        "    4: (\"Dead\", (0, 0, 0)),\n",
        "    5: (\"non-neoplastic epithelial\", (0, 0, 255)),\n",
        "}\n",
        "\n",
        "for i in range(4):  # showing 4 examples\n",
        "    selected_nuc_id = nuc_id_list[\n",
        "        rng.integers(0, len(wsi_pred))\n",
        "    ]  # randomly select a nucleus\n",
        "    sample_nuc = wsi_pred[selected_nuc_id]\n",
        "    cent = np.int32(\n",
        "        sample_nuc[\"centroid\"],\n",
        "    )  # centroid position in WSI coordinate system\n",
        "    contour = sample_nuc[\"contour\"]  # nuceli contour points in WSI coordinate system\n",
        "    contour -= (\n",
        "        cent - bb // 2\n",
        "    )  # nuceli contour points in the small patch coordinate system\n",
        "\n",
        "    # Now reading the nucleus small window neighborhood\n",
        "    nuc_patch = wsi.read_rect(\n",
        "        cent - bb // 2,\n",
        "        bb,\n",
        "        resolution=0.25,\n",
        "        units=\"mpp\",\n",
        "        coord_space=\"resolution\",\n",
        "    )\n",
        "    # Overlay contour points on the extracted patch\n",
        "    # using open-cv drawContours functionality\n",
        "    overlaid_patch = cv2.drawContours(nuc_patch.copy(), [contour], -1, (255, 255, 0), 2)\n",
        "\n",
        "    # plotting the results\n",
        "    ax = plt.subplot(2, 4, i + 1), plt.imshow(nuc_patch), plt.axis(\"off\")\n",
        "    ax = (\n",
        "        plt.subplot(2, 4, i + 5),\n",
        "        plt.imshow(overlaid_patch),\n",
        "        plt.axis(\"off\"),\n",
        "        plt.title(color_dict[sample_nuc[\"type\"]][0]),\n",
        "    )"
      ]
    },
    {
      "cell_type": "markdown",
      "metadata": {
        "id": "Yeyupa8xLCNn"
      },
      "source": [
        "In summary, it is very easy to use the pretrained HoVer-Net model in TIAToolbox to do nucleus instance segmentation and classification. You don't even need to set any parameters related to a model’s input/output when you decide to work with one of TIAToolbox’s pretrained models (they will be set automatically, based on their optimal values). Here we explain how the parameters work, so we need to show them explicitly. In other words, nucleus instance segmentation in images/WSIs can be done as easily as:\n",
        "\n",
        "```\n",
        "segmentor = NucleusInstanceSegmentor(pretrained_model=\"hovernet_fast-pannuke\", num_loader_workers=4, batch_size=4)\n",
        "output = segmentor.predict([img_file_name], save_dir=\"sample_results/\", mode=\"tile\")\n",
        "```\n",
        "\n",
        "Feel free to play around with the parameters, models, and experiment with new images (just remember to run the first cell of this notebook again, so the created folders for the current examples would be removed or change the `save_dir` parameters in new calls of `predict` function). If you want to use your pretrained model for instance segmentation (or any other pixel-wise prediction models) in the TIAToolbox framework, you can follow the instructions in our example notebook on [advanced model techniques](https://github.com/TissueImageAnalytics/tiatoolbox/blob/develop/examples/07-advanced-modeling.ipynb) to gain some insights and guidance.\n",
        "We welcome any trained model in computational pathology (in any task) for addition to TIAToolbox. If you have such a model (in Pytorch) and want to contribute, please contact us or simply create a PR on our Github page.\n",
        "\n"
      ]
    }
  ],
  "metadata": {
    "accelerator": "GPU",
    "celltoolbar": "Raw Cell Format",
    "colab": {
      "name": "08-nucleus-instance-segmentation.ipynb",
      "provenance": [],
      "include_colab_link": true
    },
    "interpreter": {
      "hash": "641317031b9f54126a387462bfafcc8a3ed3bbe28fae551a718f7a4af76cf9e8"
    },
    "kernelspec": {
      "display_name": "Python 3 (ipykernel)",
      "language": "python",
      "name": "python3"
    },
    "language_info": {
      "codemirror_mode": {
        "name": "ipython",
        "version": 3
      },
      "file_extension": ".py",
      "mimetype": "text/x-python",
      "name": "python",
      "nbconvert_exporter": "python",
      "pygments_lexer": "ipython3",
      "version": "3.9.17"
    }
  },
  "nbformat": 4,
  "nbformat_minor": 0
}